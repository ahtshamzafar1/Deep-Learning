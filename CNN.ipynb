{
 "cells": [
  {
   "cell_type": "code",
   "execution_count": null,
   "metadata": {
    "colab": {
     "base_uri": "https://localhost:8080/",
     "height": 34
    },
    "colab_type": "code",
    "id": "xF3xcTZkX0XC",
    "outputId": "066e46d9-399e-4679-c83d-8b050e87604a"
   },
   "outputs": [],
   "source": [
    "import torch\n",
    "from torch.utils.data import Dataset\n",
    "import torch.nn as nn\n",
    "import torchvision.transforms as transforms\n",
    "import torchvision.datasets as dsets\n",
    "import torch.nn.functional as F\n",
    "import matplotlib.pylab as plt\n",
    "import numpy as np\n",
    "import torchvision\n",
    "torch.manual_seed(2)\n",
    "device = torch.device('cuda' if torch.cuda.is_available() else 'cpu')\n",
    "train_on_gpu = torch.cuda.is_available()\n",
    "if not train_on_gpu:\n",
    "    print('CUDA is not available')\n",
    "else:\n",
    "    print('CUDA is available!')"
   ]
  },
  {
   "cell_type": "code",
   "execution_count": null,
   "metadata": {
    "colab": {
     "base_uri": "https://localhost:8080/",
     "height": 122
    },
    "colab_type": "code",
    "id": "PllHdwT1X4kq",
    "outputId": "6ae17b66-8265-48b9-94bd-90c1ea072d7a"
   },
   "outputs": [],
   "source": [
    "from google.colab import drive, files\n",
    "drive.mount('/content/drive/')\n",
    "trainpath = \"/content/drive/My Drive/dataset/\"\n",
    "validationpath = \"/content/drive/My Drive/datasetT/\""
   ]
  },
  {
   "cell_type": "code",
   "execution_count": null,
   "metadata": {
    "colab": {},
    "colab_type": "code",
    "id": "5BFYdcZWX69I"
   },
   "outputs": [],
   "source": [
    "#Test Transform and data loader\n",
    "transform1 = transforms.Compose([transforms.Resize((256,256)),transforms.ToTensor()])\n",
    "train_dataset = dsets.ImageFolder(root=trainpath, transform=transform1)\n",
    "train_loader = torch.utils.data.DataLoader(dataset=train_dataset,batch_size=32, shuffle=True)\n",
    "\n",
    "#validation transform and dataloader\n",
    "validation_transform = transforms.Compose([transforms.Resize((256,256)),transforms.ToTensor()])\n",
    "test_dataset = dsets.ImageFolder(root=validationpath, transform=validation_transform)\n",
    "validation_loader = torch.utils.data.DataLoader(dataset=test_dataset,batch_size=32, shuffle=False)\n",
    "\n",
    "\n"
   ]
  },
  {
   "cell_type": "code",
   "execution_count": null,
   "metadata": {
    "colab": {
     "base_uri": "https://localhost:8080/",
     "height": 85
    },
    "colab_type": "code",
    "id": "Q_ihyUQzX8r_",
    "outputId": "a9fdedf0-0749-4c14-f04a-266411b37b21"
   },
   "outputs": [],
   "source": [
    "num_epochs = 10\n",
    "num_classes = 3\n",
    "batch_size = 32\n",
    "learning_rate = 0.0001\n",
    "print('there are {}  images in training set.'.format(len(train_dataset)))\n",
    "print('there are {}  images in test set.'.format(len(test_dataset)))\n",
    "print('there are {}  images in training set.'.format(len(train_loader)))\n",
    "print('there are {}  images in training loader.'.format(len(validation_loader)))"
   ]
  },
  {
   "cell_type": "code",
   "execution_count": null,
   "metadata": {
    "colab": {
     "base_uri": "https://localhost:8080/",
     "height": 272
    },
    "colab_type": "code",
    "id": "BbhTAbn9X-SZ",
    "outputId": "50201037-c824-4836-bb8e-a341dccd450f"
   },
   "outputs": [],
   "source": [
    "class ConvNet(nn.Module):\n",
    "    def __init__(self):\n",
    "        super(ConvNet, self).__init__()\n",
    "        self.layer1 = nn.Sequential(\n",
    "            nn.Conv2d(3, 32, kernel_size=5, stride=1, padding=2),\n",
    "            nn.ReLU(),\n",
    "            nn.MaxPool2d(kernel_size=2, stride=2))\n",
    "        self.layer2 = nn.Sequential(\n",
    "            nn.Conv2d(32, 64, kernel_size=5, stride=1, padding=2),\n",
    "            nn.ReLU(),\n",
    "            nn.MaxPool2d(kernel_size=2, stride=2))\n",
    "        self.drop_out = nn.Dropout()\n",
    "        self.fc1 = nn.Linear(64 * 64 * 64, 1000). to (device)\n",
    "        self.fc2 = nn.Linear(1000, 3).to (device)\n",
    "    def forward(self, x):\n",
    "        out = self.layer1(x)\n",
    "        out = self.layer2(out)\n",
    "        out = out.reshape(out.size(0), -1)\n",
    "        out = self.drop_out(out)\n",
    "        out = self.fc1(out)\n",
    "        out = self.fc2(out)\n",
    "        return out\n",
    "model=ConvNet()\n",
    "print(model)     "
   ]
  },
  {
   "cell_type": "code",
   "execution_count": null,
   "metadata": {
    "colab": {},
    "colab_type": "code",
    "id": "xNSpgZ1JYAcn"
   },
   "outputs": [],
   "source": [
    "model = ConvNet().to (device)\n",
    "# Loss and optimizer\n",
    "criterion = nn.CrossEntropyLoss().to (device)\n",
    "optimizer = torch.optim.Adam(model.parameters(), lr=learning_rate)"
   ]
  },
  {
   "cell_type": "code",
   "execution_count": null,
   "metadata": {
    "colab": {
     "base_uri": "https://localhost:8080/",
     "height": 1000
    },
    "colab_type": "code",
    "id": "bypjnL82YEdy",
    "outputId": "a282f5d7-ad48-4163-d0d5-8b12466c4be3"
   },
   "outputs": [],
   "source": [
    "# Train the model\n",
    "print(len(train_loader))\n",
    "total_step = len(train_loader)\n",
    "loss_list = []\n",
    "acc_list = []\n",
    "for epoch in range(num_epochs):\n",
    "    for i, (images, labels) in enumerate(train_loader):\n",
    "        # Run the forward pass\n",
    "        images=images.to (device)\n",
    "        labels=labels.to (device)\n",
    "        outputs = model(images)\n",
    "        loss = criterion(outputs, labels)\n",
    "        loss_list.append(loss.item())\n",
    "\n",
    "        # Backprop and perform Adam optimisation\n",
    "        optimizer.zero_grad()\n",
    "        loss.backward()\n",
    "        optimizer.step()\n",
    "\n",
    "        # Track the accuracy\n",
    "        total = labels.size(0)\n",
    "        _, predicted = torch.max(outputs.data, 1)\n",
    "        correct = (predicted == labels).sum().item()\n",
    "        acc_list.append(correct / total)\n",
    "        print(\"Training\")\n",
    "        #if (i + 1) % 100 == 0:\n",
    "        print('Epoch [{}/{}], Step [{}/{}], Loss: {:.4f}, Accuracy: {:.2f}%'.format(epoch + 1, num_epochs, i + 1, total_step, loss.item(),(correct / total) * 100))\n",
    "\n",
    "PATH = '/content/drive/My Drive/path.pth'\n",
    "torch.save(model.state_dict(), PATH)          \n",
    "        "
   ]
  },
  {
   "cell_type": "code",
   "execution_count": null,
   "metadata": {
    "colab": {},
    "colab_type": "code",
    "id": "4P34lUM2lOsw"
   },
   "outputs": [],
   "source": [
    "model = ConvNet()\n",
    "model.load_state_dict(torch.load(r'/content/drive/My Drive/path.pth'))\n",
    "model = model.cuda()"
   ]
  },
  {
   "cell_type": "code",
   "execution_count": null,
   "metadata": {
    "colab": {
     "base_uri": "https://localhost:8080/",
     "height": 34
    },
    "colab_type": "code",
    "id": "9c83_w63BxxQ",
    "outputId": "a304f34c-4b52-4cab-b4de-1472d2264a45"
   },
   "outputs": [],
   "source": [
    "model.eval()\n",
    "with torch.no_grad():\n",
    "    correct = 0\n",
    "    total = 0\n",
    "    for images, labels in validation_loader:\n",
    "        images=images.to (device)\n",
    "        labels=labels.to (device)\n",
    "        outputs = model(images).to(device)\n",
    "        _, predicted = torch.max(outputs.data, 1)\n",
    "        total += labels.size(0)\n",
    "        correct += (predicted == labels).sum().item()\n",
    "\n",
    "    print('Test Accuracy of the model on the  test images: {} %'.format((correct / total) * 100))"
   ]
  },
  {
   "cell_type": "code",
   "execution_count": null,
   "metadata": {
    "colab": {
     "base_uri": "https://localhost:8080/",
     "height": 34
    },
    "colab_type": "code",
    "id": "Y7BNF7HaPuFD",
    "outputId": "3e41cfab-9b92-48fd-bfdb-9ca00d7e265c"
   },
   "outputs": [],
   "source": [
    "print(predicted)"
   ]
  },
  {
   "cell_type": "code",
   "execution_count": null,
   "metadata": {
    "colab": {
     "base_uri": "https://localhost:8080/",
     "height": 34
    },
    "colab_type": "code",
    "id": "K2Jyn5NnQkFP",
    "outputId": "7caae0fa-2b69-4925-fa15-e9013bf3be46"
   },
   "outputs": [],
   "source": [
    "print(correct)"
   ]
  },
  {
   "cell_type": "code",
   "execution_count": null,
   "metadata": {
    "colab": {
     "base_uri": "https://localhost:8080/",
     "height": 34
    },
    "colab_type": "code",
    "id": "oGsPeSAzQoi-",
    "outputId": "efe4c16c-c75c-47b7-f03b-3ea106302145"
   },
   "outputs": [],
   "source": [
    "print(total)"
   ]
  },
  {
   "cell_type": "code",
   "execution_count": null,
   "metadata": {
    "colab": {
     "base_uri": "https://localhost:8080/",
     "height": 71
    },
    "colab_type": "code",
    "id": "eY_Neh1WH7K9",
    "outputId": "b791268e-3325-4841-a8fe-cfb56742da33"
   },
   "outputs": [],
   "source": [
    "from torch.autograd import Variable\n",
    "import matplotlib.pyplot as plt\n",
    "import seaborn as sns\n",
    "from sklearn.metrics import confusion_matrix\n",
    "import numpy as np"
   ]
  },
  {
   "cell_type": "code",
   "execution_count": null,
   "metadata": {
    "colab": {
     "base_uri": "https://localhost:8080/",
     "height": 401
    },
    "colab_type": "code",
    "id": "yeT94i-6Hwt3",
    "outputId": "f0a100c9-b825-449c-b2d6-3402a7265c5c"
   },
   "outputs": [],
   "source": [
    "from sklearn.metrics import confusion_matrix\n",
    "\n",
    "nb_classes = 3\n",
    "\n",
    "# Initialize the prediction and label lists(tensors)\n",
    "predlist=torch.zeros(0,dtype=torch.long, device='cpu')\n",
    "lbllist=torch.zeros(0,dtype=torch.long, device='cpu')\n",
    "\n",
    "with torch.no_grad():\n",
    "    for i, (inputs, classes) in enumerate(validation_loader):\n",
    "        inputs = inputs.to(device)\n",
    "        classes = classes.to(device)\n",
    "        outputs = model(inputs)\n",
    "        _, preds = torch.max(outputs, 1)\n",
    "\n",
    "        # Append batch prediction results\n",
    "        predlist=torch.cat([predlist,preds.view(-1).cpu()])\n",
    "        lbllist=torch.cat([lbllist,classes.view(-1).cpu()])\n",
    "\n",
    "# Confusion matrix\n",
    "conf_mat=confusion_matrix(lbllist.numpy(), predlist.numpy())\n",
    "print(conf_mat)\n",
    "sns.heatmap(conf_mat, annot=True, cbar=False)\n",
    "\n",
    "ax= plt.subplot()\n",
    "# Per-class accuracy\n",
    "#class_accuracy=100*conf_mat.diagonal()/conf_mat.sum(1)\n",
    "#print(class_accuracy)\n",
    "model.eval()\n",
    "with torch.no_grad():\n",
    "    correct = 0\n",
    "    total = 0\n",
    "    for images, labels in validation_loader:\n",
    "        images=images.to (device)\n",
    "        labels=labels.to (device)\n",
    "        outputs = model(images).to(device)\n",
    "        _, predicted = torch.max(outputs.data, 1)\n",
    "        total += labels.size(0)\n",
    "        correct += (predicted == labels).sum().item()\n",
    "\n",
    "    print('Test Accuracy of the model on the  test images: {} %'.format((correct / total) * 100))\n",
    "    #sns.heatmap(cm, cmap=\"YlGnBu\",annot=True, ax = ax,cbar=False); #annot=True to annotate cells\n",
    "\n",
    "\n",
    "ax.set_xlabel('Predicted labels');ax.set_ylabel('True labels'); \n",
    "ax.set_title('Confusion Matrix'); "
   ]
  },
  {
   "cell_type": "code",
   "execution_count": null,
   "metadata": {
    "colab": {
     "base_uri": "https://localhost:8080/",
     "height": 34
    },
    "colab_type": "code",
    "id": "x-PqC1lahlcL",
    "outputId": "2e24dfb1-701f-41d9-e694-455c40d86125"
   },
   "outputs": [],
   "source": [
    "print(predicted)"
   ]
  },
  {
   "cell_type": "code",
   "execution_count": null,
   "metadata": {
    "colab": {
     "base_uri": "https://localhost:8080/",
     "height": 34
    },
    "colab_type": "code",
    "id": "5LHetxSchqhI",
    "outputId": "b3f790f3-138b-42b4-eb5c-5340d9e89864"
   },
   "outputs": [],
   "source": [
    "print(labels)"
   ]
  },
  {
   "cell_type": "code",
   "execution_count": null,
   "metadata": {
    "colab": {
     "base_uri": "https://localhost:8080/",
     "height": 102
    },
    "colab_type": "code",
    "id": "9hvV-x3rlx4G",
    "outputId": "28d8b94c-c2be-4480-e0f3-58071801742b"
   },
   "outputs": [],
   "source": [
    "print(outputs)"
   ]
  },
  {
   "cell_type": "code",
   "execution_count": null,
   "metadata": {
    "colab": {
     "base_uri": "https://localhost:8080/",
     "height": 102
    },
    "colab_type": "code",
    "id": "qyROYRL9lzpl",
    "outputId": "2ed7e22d-3bae-4e59-ffa7-e1492b62656d"
   },
   "outputs": [],
   "source": [
    "sm = torch.nn.Softmax(dim=1)\n",
    "#F.softmax(a, dim=1)\n",
    "probabilities = sm(outputs) \n",
    "print(probabilities)"
   ]
  },
  {
   "cell_type": "code",
   "execution_count": null,
   "metadata": {
    "colab": {
     "base_uri": "https://localhost:8080/",
     "height": 527
    },
    "colab_type": "code",
    "id": "yIkNwxM_nuOW",
    "outputId": "fe956e36-2cdf-4b95-f4ff-e167036f7528"
   },
   "outputs": [],
   "source": [
    "torch.nn.functional.softmax(outputs,dim=1)"
   ]
  },
  {
   "cell_type": "code",
   "execution_count": null,
   "metadata": {
    "colab": {},
    "colab_type": "code",
    "id": "-dn4xe4bq0Vh"
   },
   "outputs": [],
   "source": [
    "value=str(probabilities)\n",
    "value2=value.replace(',', '.')\n",
    "float(value2)"
   ]
  },
  {
   "cell_type": "code",
   "execution_count": null,
   "metadata": {
    "colab": {},
    "colab_type": "code",
    "id": "I-zZVnkRrjuN"
   },
   "outputs": [],
   "source": []
  }
 ],
 "metadata": {
  "accelerator": "GPU",
  "colab": {
   "name": "CNN_COVID_ASP.ipynb",
   "provenance": []
  },
  "kernelspec": {
   "display_name": "Python 3 (ipykernel)",
   "language": "python",
   "name": "python3"
  },
  "language_info": {
   "codemirror_mode": {
    "name": "ipython",
    "version": 3
   },
   "file_extension": ".py",
   "mimetype": "text/x-python",
   "name": "python",
   "nbconvert_exporter": "python",
   "pygments_lexer": "ipython3",
   "version": "3.9.7"
  },
  "toc": {
   "base_numbering": 1,
   "nav_menu": {},
   "number_sections": true,
   "sideBar": true,
   "skip_h1_title": false,
   "title_cell": "Table of Contents",
   "title_sidebar": "Contents",
   "toc_cell": false,
   "toc_position": {},
   "toc_section_display": true,
   "toc_window_display": false
  }
 },
 "nbformat": 4,
 "nbformat_minor": 1
}
