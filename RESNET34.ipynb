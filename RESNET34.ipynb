{
 "cells": [
  {
   "cell_type": "code",
   "execution_count": null,
   "metadata": {
    "colab": {
     "base_uri": "https://localhost:8080/",
     "height": 34
    },
    "colab_type": "code",
    "id": "QDoVWipDPo0p",
    "outputId": "3822bcf5-7300-4125-fcf7-d94774447765"
   },
   "outputs": [],
   "source": [
    "import torch\n",
    "import torchvision\n",
    "from torch.utils.data import Dataset\n",
    "import torch.nn as nn\n",
    "import torchvision.transforms as transforms\n",
    "import torchvision.datasets as dsets\n",
    "import torch.nn.functional as F\n",
    "import matplotlib.pylab as plt\n",
    "import numpy as np\n",
    "from torchvision import models\n",
    "torch.manual_seed(2)\n",
    "device = torch.device('cuda' if torch.cuda.is_available() else 'cpu')\n",
    "train_on_gpu = torch.cuda.is_available()\n",
    "if not train_on_gpu:\n",
    "    print('CUDA is not available')\n",
    "else:\n",
    "    print('CUDA is available!')"
   ]
  },
  {
   "cell_type": "code",
   "execution_count": null,
   "metadata": {
    "colab": {
     "base_uri": "https://localhost:8080/",
     "height": 34
    },
    "colab_type": "code",
    "id": "iG0cGZPOPteA",
    "outputId": "1b6a1800-7455-469f-80f1-6f4d67c4e845"
   },
   "outputs": [],
   "source": [
    "from google.colab import drive, files\n",
    "drive.mount('/content/drive/')\n",
    "trainpath = \"/content/drive/My Drive/dataset/\"\n",
    "validationpath = \"/content/drive/My Drive/datasetT/\""
   ]
  },
  {
   "cell_type": "code",
   "execution_count": null,
   "metadata": {
    "colab": {
     "base_uri": "https://localhost:8080/",
     "height": 85
    },
    "colab_type": "code",
    "id": "Te-rJrbcPvvb",
    "outputId": "186fe35f-31ff-407d-d76f-425a0d530302"
   },
   "outputs": [],
   "source": [
    "#Test Transform and data loader\n",
    "transform1 = transforms.Compose([transforms.Resize((224,224)),transforms.CenterCrop(size=224),transforms.ToTensor(),transforms.Normalize([0.485, 0.456, 0.406],[0.229, 0.224, 0.225])])\n",
    "train_dataset = dsets.ImageFolder(root=trainpath, transform=transform1)\n",
    "train_loader = torch.utils.data.DataLoader(dataset=train_dataset,batch_size=32, shuffle=True)\n",
    "\n",
    "#validation transform and dataloader\n",
    "validation_transform = transforms.Compose([transforms.Resize((224,224)),transforms.CenterCrop(size=224),transforms.ToTensor(),transforms.Normalize([0.485, 0.456, 0.406],[0.229, 0.224, 0.225])])\n",
    "test_dataset = dsets.ImageFolder(root=validationpath, transform=validation_transform)\n",
    "validation_loader = torch.utils.data.DataLoader(dataset=test_dataset,batch_size=32, shuffle=False)\n",
    "\n",
    "num_epochs = 30\n",
    "num_classes = 3\n",
    "batch_size = 32\n",
    "learning_rate = 0.0001\n",
    "print('there are {}  images in training set.'.format(len(train_dataset)))\n",
    "print('there are {}  images in test set.'.format(len(test_dataset)))\n",
    "print('there are {}  images in training set.'.format(len(train_loader)))\n",
    "print('there are {}  images in training loader.'.format(len(validation_loader)))"
   ]
  },
  {
   "cell_type": "code",
   "execution_count": null,
   "metadata": {
    "colab": {
     "base_uri": "https://localhost:8080/",
     "height": 34
    },
    "colab_type": "code",
    "id": "dy0t9PogPykL",
    "outputId": "4e0ad535-a24c-4f9c-e212-1e82c5e226bd"
   },
   "outputs": [],
   "source": [
    "model=models.resnet34(pretrained=True)\n",
    "for param in model.parameters():\n",
    "  for i in param:\n",
    "    param.requires_grad = False\n",
    "    num_ftrs = model.fc.in_features\n",
    "model.fc = nn.Linear(num_ftrs, 3)\n",
    "\n",
    "print(model.fc)"
   ]
  },
  {
   "cell_type": "code",
   "execution_count": null,
   "metadata": {
    "colab": {
     "base_uri": "https://localhost:8080/",
     "height": 1000
    },
    "colab_type": "code",
    "id": "VIunR5nnP0mu",
    "outputId": "85720828-c97c-4a61-ffef-c8c3c9199d28"
   },
   "outputs": [],
   "source": [
    "print(model)"
   ]
  },
  {
   "cell_type": "code",
   "execution_count": null,
   "metadata": {
    "colab": {
     "base_uri": "https://localhost:8080/",
     "height": 1000
    },
    "colab_type": "code",
    "id": "DRukb9yUP2Qs",
    "outputId": "dd30d1c6-e2ee-4f66-ff61-9d3dca4b24f0"
   },
   "outputs": [],
   "source": [
    "from torchsummary import summary\n",
    "\n",
    "summary(model.cuda(), (3, 224, 224))"
   ]
  },
  {
   "cell_type": "code",
   "execution_count": null,
   "metadata": {
    "colab": {},
    "colab_type": "code",
    "id": "ytg3OIMjP4zN"
   },
   "outputs": [],
   "source": [
    "model = model.to (device)\n",
    "# Loss and optimizer\n",
    "criterion = nn.CrossEntropyLoss().to (device)\n",
    "#optimizer = torch.optim.Adam(model.parameters(), lr=learning_rate)\n",
    "optimizer = torch.optim.SGD(model.parameters(), lr=0.0001, momentum=0.9)"
   ]
  },
  {
   "cell_type": "code",
   "execution_count": null,
   "metadata": {
    "colab": {
     "base_uri": "https://localhost:8080/",
     "height": 1000
    },
    "colab_type": "code",
    "id": "QsH5VJI6P678",
    "outputId": "a361bce3-e1d2-47d4-f29d-768afbfd8bb7"
   },
   "outputs": [],
   "source": [
    "# Train the model\n",
    "print(len(train_loader))\n",
    "total_step = len(train_loader)\n",
    "loss_list = []\n",
    "acc_list = []\n",
    "for epoch in range(num_epochs):\n",
    "    for i, (images, labels) in enumerate(train_loader):\n",
    "        # Run the forward pass\n",
    "        images=images.to (device)\n",
    "        labels=labels.to (device)\n",
    "        outputs = model(images)\n",
    "        loss = criterion(outputs, labels)\n",
    "        loss_list.append(loss.item())\n",
    "\n",
    "        # Backprop and perform Adam optimisation\n",
    "        optimizer.zero_grad()\n",
    "        loss.backward()\n",
    "        optimizer.step()\n",
    "\n",
    "        # Track the accuracy\n",
    "        total = labels.size(0)\n",
    "        _, predicted = torch.max(outputs.data, 1)\n",
    "        correct = (predicted == labels).sum().item()\n",
    "        acc_list.append(correct / total)\n",
    "        print(\"Training\")\n",
    "    #if (i + 1) % 100 == 0:\n",
    "        print('Epoch [{}/{}], Step [{}/{}], Loss: {:.4f}, Accuracy: {:.4f}%'.format(epoch + 1, num_epochs, i + 1, total_step, loss.item(),(correct / total) * 100))\n",
    "PATH = '/content/drive/My Drive/--.pth'\n",
    "torch.save(model.state_dict(), PATH)          \n",
    "                    "
   ]
  },
  {
   "cell_type": "code",
   "execution_count": null,
   "metadata": {
    "colab": {
     "base_uri": "https://localhost:8080/",
     "height": 34
    },
    "colab_type": "code",
    "id": "Jp1rV3_vNRMN",
    "outputId": "0f299612-0e18-4bff-a0a4-d2fc9c967c55"
   },
   "outputs": [],
   "source": [
    "#PATH = '/content/drive/My Drive/Resnet34_COVID19_ASAD_ASP_LAB.pth'\n",
    "#model.load_state_dict(torch.load(PATH))\n",
    "#model = AlexNet()"
   ]
  },
  {
   "cell_type": "code",
   "execution_count": null,
   "metadata": {
    "colab": {},
    "colab_type": "code",
    "id": "zHOdA0lkk_en"
   },
   "outputs": [],
   "source": [
    "#loading the model\n",
    "#model = ConvNet()\n",
    "#model.load_state_dict(torch.load(r'/content/drive/My Drive/--.pth'))\n",
    "#model = model.cuda()"
   ]
  },
  {
   "cell_type": "code",
   "execution_count": null,
   "metadata": {
    "colab": {
     "base_uri": "https://localhost:8080/",
     "height": 34
    },
    "colab_type": "code",
    "id": "_uCHUgTelXBB",
    "outputId": "78822110-f23a-4f5d-b955-804b8f5d1c4a"
   },
   "outputs": [],
   "source": [
    "model.eval()\n",
    "with torch.no_grad():\n",
    "    correct = 0\n",
    "    total = 0\n",
    "    for images, labels in validation_loader:\n",
    "        images=images.to (device)\n",
    "        labels=labels.to (device)\n",
    "        outputs = model(images).to(device)\n",
    "        _, predicted = torch.max(outputs.data, 1)\n",
    "        total += labels.size(0)\n",
    "        correct += (predicted == labels).sum().item()\n",
    "\n",
    "    print('Test Accuracy of the model on the  test images: {} %'.format((correct / total) * 100))"
   ]
  },
  {
   "cell_type": "code",
   "execution_count": null,
   "metadata": {
    "colab": {
     "base_uri": "https://localhost:8080/",
     "height": 34
    },
    "colab_type": "code",
    "id": "bLF0hhTaS3DR",
    "outputId": "8cd5e3d7-7e39-4f99-e0f4-18bf3666f595"
   },
   "outputs": [],
   "source": [
    "print(predicted)"
   ]
  },
  {
   "cell_type": "code",
   "execution_count": null,
   "metadata": {
    "colab": {
     "base_uri": "https://localhost:8080/",
     "height": 34
    },
    "colab_type": "code",
    "id": "pV6UZ_3oliYd",
    "outputId": "70acb930-e5c2-4cd9-dc1c-92ebb5ac539f"
   },
   "outputs": [],
   "source": [
    "print(predicted)"
   ]
  },
  {
   "cell_type": "code",
   "execution_count": null,
   "metadata": {
    "colab": {
     "base_uri": "https://localhost:8080/",
     "height": 34
    },
    "colab_type": "code",
    "id": "YUGY1dgJl0qs",
    "outputId": "acf904f5-726a-46df-eeb9-7b2bf763a9bd"
   },
   "outputs": [],
   "source": [
    "print(total)"
   ]
  },
  {
   "cell_type": "code",
   "execution_count": null,
   "metadata": {
    "colab": {
     "base_uri": "https://localhost:8080/",
     "height": 34
    },
    "colab_type": "code",
    "id": "1dL8vw1Zl28v",
    "outputId": "e8e96819-05a3-4371-853c-4c5630f23132"
   },
   "outputs": [],
   "source": [
    "print(correct)"
   ]
  },
  {
   "cell_type": "code",
   "execution_count": null,
   "metadata": {
    "colab": {
     "base_uri": "https://localhost:8080/",
     "height": 435
    },
    "colab_type": "code",
    "id": "g3co5n6NTZAC",
    "outputId": "bf877793-2192-4e50-de14-802cc41dae51"
   },
   "outputs": [],
   "source": [
    "from torch.autograd import Variable\n",
    "import matplotlib.pyplot as plt\n",
    "import seaborn as sns\n",
    "from sklearn.metrics import confusion_matrix\n",
    "import numpy as np\n",
    "from sklearn.metrics import confusion_matrix\n",
    "\n",
    "nb_classes = 3\n",
    "\n",
    "# Initialize the prediction and label lists(tensors)\n",
    "predlist=torch.zeros(0,dtype=torch.long, device='cpu')\n",
    "lbllist=torch.zeros(0,dtype=torch.long, device='cpu')\n",
    "\n",
    "with torch.no_grad():\n",
    "    for i, (inputs, classes) in enumerate(validation_loader):\n",
    "        inputs = inputs.to(device)\n",
    "        classes = classes.to(device)\n",
    "        outputs = model(inputs)\n",
    "        _, preds = torch.max(outputs, 1)\n",
    "\n",
    "        # Append batch prediction results\n",
    "        predlist=torch.cat([predlist,preds.view(-1).cpu()])\n",
    "        lbllist=torch.cat([lbllist,classes.view(-1).cpu()])\n",
    "\n",
    "# Confusion matrix\n",
    "conf_mat=confusion_matrix(lbllist.numpy(), predlist.numpy())\n",
    "print(conf_mat)\n",
    "sns.heatmap(conf_mat, annot=True, cbar=False)\n",
    "\n",
    "ax= plt.subplot()\n",
    "# Per-class accuracy\n",
    "#class_accuracy=100*conf_mat.diagonal()/conf_mat.sum(1)\n",
    "#print(class_accuracy)\n",
    "model.eval()\n",
    "with torch.no_grad():\n",
    "    correct = 0\n",
    "    total = 0\n",
    "    for images, labels in validation_loader:\n",
    "        images=images.to (device)\n",
    "        labels=labels.to (device)\n",
    "        outputs = model(images).to(device)\n",
    "        _, predicted = torch.max(outputs.data, 1)\n",
    "        total += labels.size(0)\n",
    "        correct += (predicted == labels).sum().item()\n",
    "\n",
    "    print('Test Accuracy of the model on the  test images: {} %'.format((correct / total) * 100))\n",
    "    #sns.heatmap(cm, cmap=\"YlGnBu\",annot=True, ax = ax,cbar=False); #annot=True to annotate cells\n",
    "\n",
    "\n",
    "ax.set_xlabel('Predicted labels');ax.set_ylabel('True labels'); \n",
    "ax.set_title('Confusion Matrix'); "
   ]
  }
 ],
 "metadata": {
  "accelerator": "GPU",
  "colab": {
   "name": "RESNET34_ASP_LAB (1).ipynb",
   "provenance": []
  },
  "kernelspec": {
   "display_name": "Python 3 (ipykernel)",
   "language": "python",
   "name": "python3"
  },
  "language_info": {
   "codemirror_mode": {
    "name": "ipython",
    "version": 3
   },
   "file_extension": ".py",
   "mimetype": "text/x-python",
   "name": "python",
   "nbconvert_exporter": "python",
   "pygments_lexer": "ipython3",
   "version": "3.9.7"
  },
  "toc": {
   "base_numbering": 1,
   "nav_menu": {},
   "number_sections": true,
   "sideBar": true,
   "skip_h1_title": false,
   "title_cell": "Table of Contents",
   "title_sidebar": "Contents",
   "toc_cell": false,
   "toc_position": {},
   "toc_section_display": true,
   "toc_window_display": false
  }
 },
 "nbformat": 4,
 "nbformat_minor": 1
}
