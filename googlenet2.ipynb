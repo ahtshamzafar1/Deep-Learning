{
 "cells": [
  {
   "cell_type": "code",
   "execution_count": null,
   "metadata": {
    "colab": {
     "base_uri": "https://localhost:8080/",
     "height": 33
    },
    "colab_type": "code",
    "id": "Zl2TH4YyssNj",
    "outputId": "312ba45b-11ac-40f3-ae59-04613548e5d4"
   },
   "outputs": [],
   "source": [
    "import torch\n",
    "import torchvision\n",
    "from torch.utils.data import Dataset\n",
    "import torch.nn as nn\n",
    "import torchvision.transforms as transforms\n",
    "import torchvision.datasets as dsets\n",
    "import torch.nn.functional as F\n",
    "import matplotlib.pylab as plt\n",
    "import numpy as np\n",
    "from torchvision import models\n",
    "torch.manual_seed(2)\n",
    "device = torch.device('cuda' if torch.cuda.is_available() else 'cpu')\n",
    "train_on_gpu = torch.cuda.is_available()\n",
    "if not train_on_gpu:\n",
    "    print('CUDA is not available')\n",
    "else:\n",
    "    print('CUDA is available!')\n",
    "    "
   ]
  },
  {
   "cell_type": "code",
   "execution_count": null,
   "metadata": {
    "colab": {
     "base_uri": "https://localhost:8080/",
     "height": 33
    },
    "colab_type": "code",
    "id": "8Ifc4Yhf9ZCV",
    "outputId": "05601b87-7e17-41dd-ddb4-d2aa714fa3e0"
   },
   "outputs": [],
   "source": [
    "from google.colab import drive\n",
    "drive.mount('/content/drive')"
   ]
  },
  {
   "cell_type": "markdown",
   "metadata": {
    "colab_type": "text",
    "id": "Q5e32Mi0swAV"
   },
   "source": [
    "# Mount Google Drive"
   ]
  },
  {
   "cell_type": "code",
   "execution_count": null,
   "metadata": {
    "colab": {},
    "colab_type": "code",
    "id": "K-NcgzC83YB6"
   },
   "outputs": [],
   "source": [
    "\n",
    "trainpath = \"/content/drive/My Drive/dataset/\"\n",
    "validationpath = \"/content/drive/My Drive/datasetT/\"\n"
   ]
  },
  {
   "cell_type": "markdown",
   "metadata": {
    "colab_type": "text",
    "id": "xK8UlrJ1s1ha"
   },
   "source": [
    "# Transfer train and validation data to 128x128 and then to tensor"
   ]
  },
  {
   "cell_type": "code",
   "execution_count": null,
   "metadata": {
    "colab": {
     "base_uri": "https://localhost:8080/",
     "height": 82
    },
    "colab_type": "code",
    "id": "XGe92EVx3anZ",
    "outputId": "70591309-acac-4565-8917-c6811a52920b"
   },
   "outputs": [],
   "source": [
    "#Test Transform and data loader\n",
    "transform1 = transforms.Compose([transforms.Resize((224,224)),transforms.CenterCrop(size=224),transforms.ToTensor(),transforms.Normalize([0.485, 0.456, 0.406],[0.229, 0.224, 0.225])])\n",
    "train_dataset = dsets.ImageFolder(root=trainpath, transform=transform1)\n",
    "train_loader = torch.utils.data.DataLoader(dataset=train_dataset,batch_size=32, shuffle=True)\n",
    "\n",
    "#validation transform and dataloader\n",
    "validation_transform = transforms.Compose([transforms.Resize((224,224)),transforms.CenterCrop(size=224),transforms.ToTensor(),transforms.Normalize([0.485, 0.456, 0.406],[0.229, 0.224, 0.225])])\n",
    "test_dataset = dsets.ImageFolder(root=validationpath, transform=validation_transform)\n",
    "validation_loader = torch.utils.data.DataLoader(dataset=test_dataset,batch_size=32, shuffle=False)\n",
    "\n",
    "num_epochs = 2\n",
    "num_classes = 3\n",
    "batch_size = 32\n",
    "learning_rate = 0.001\n",
    "print('there are {}  images in training set.'.format(len(train_dataset)))\n",
    "print('there are {}  images in test set.'.format(len(test_dataset)))\n",
    "print('there are {}  images in training set.'.format(len(train_loader)))\n",
    "print('there are {}  images in training loader.'.format(len(validation_loader)))\n",
    "\n"
   ]
  },
  {
   "cell_type": "markdown",
   "metadata": {
    "colab_type": "text",
    "id": "H84bikvjtSln"
   },
   "source": [
    "# Load pretrained Model, unfreezing their fully connected layer"
   ]
  },
  {
   "cell_type": "code",
   "execution_count": null,
   "metadata": {
    "colab": {
     "base_uri": "https://localhost:8080/",
     "height": 33
    },
    "colab_type": "code",
    "id": "ZS82WGOX3gZK",
    "outputId": "416419da-e43b-41a0-f716-783864f5d1c7"
   },
   "outputs": [],
   "source": [
    "model=models.googlenet(pretrained=True)\n",
    "for param in model.parameters():\n",
    "  for i in param:\n",
    "    param.requires_grad = False\n",
    "    num_ftrs = model.fc.in_features\n",
    "model.fc = nn.Linear(num_ftrs, 3)\n",
    "\n",
    "print(model.fc)"
   ]
  },
  {
   "cell_type": "code",
   "execution_count": null,
   "metadata": {
    "colab": {
     "base_uri": "https://localhost:8080/",
     "height": 1000
    },
    "colab_type": "code",
    "id": "so-ApiUu3kAo",
    "outputId": "c457fe56-a17c-404c-e9e5-86e49cd6621e"
   },
   "outputs": [],
   "source": [
    "from torchsummary import summary\n",
    "\n",
    "summary(model.cuda(), (3, 224, 224))\n"
   ]
  },
  {
   "cell_type": "markdown",
   "metadata": {
    "colab_type": "text",
    "id": "PCMzsO5DtiBI"
   },
   "source": [
    "# Using SGD for finding Optima"
   ]
  },
  {
   "cell_type": "code",
   "execution_count": null,
   "metadata": {
    "colab": {},
    "colab_type": "code",
    "id": "P7ujIL6n3ozw"
   },
   "outputs": [],
   "source": [
    "model = model.to (device)\n",
    "# Loss and optimizer\n",
    "criterion = nn.CrossEntropyLoss().to (device)\n",
    "#optimizer = torch.optim.Adam(model.parameters(), lr=learning_rate)\n",
    "optimizer = torch.optim.SGD(model.parameters(), lr=0.01, momentum=0.9)\n"
   ]
  },
  {
   "cell_type": "markdown",
   "metadata": {
    "colab_type": "text",
    "id": "cPMjiK_NtuLT"
   },
   "source": [
    "# Traning the Model"
   ]
  },
  {
   "cell_type": "code",
   "execution_count": null,
   "metadata": {
    "colab": {
     "base_uri": "https://localhost:8080/",
     "height": 1000
    },
    "colab_type": "code",
    "id": "gmIUDBHv3spl",
    "outputId": "c239931a-f0c3-48dd-eebd-c2ad1977d6cb"
   },
   "outputs": [],
   "source": [
    "# Train the model\n",
    "print(len(train_loader))\n",
    "total_step = len(train_loader)\n",
    "loss_list = []\n",
    "acc_list = []\n",
    "for epoch in range(num_epochs):\n",
    "    for i, (images, labels) in enumerate(train_loader):\n",
    "        # Run the forward pass\n",
    "        images=images.to (device)\n",
    "        labels=labels.to (device)\n",
    "        outputs = model(images)\n",
    "        loss = criterion(outputs, labels)\n",
    "        loss_list.append(loss.item())\n",
    "\n",
    "        # Backprop and perform Adam optimisation\n",
    "        optimizer.zero_grad()\n",
    "        loss.backward()\n",
    "        optimizer.step()\n",
    "\n",
    "        # Track the accuracy\n",
    "        total = labels.size(0)\n",
    "        _, predicted = torch.max(outputs.data, 1)\n",
    "        correct = (predicted == labels).sum().item()\n",
    "        acc_list.append(correct / total)\n",
    "        print(\"Training\")\n",
    "    #if (i + 1) % 100 == 0:\n",
    "        print('Epoch [{}/{}], Step [{}/{}], Loss: {:.4f}, Accuracy: {:.4f}%'.format(epoch + 1, num_epochs, i + 1, total_step, loss.item(),(correct / total) * 100))\n",
    "PATH = '/content/drive/My Drive/googlenet_weights1/.pth'\n",
    "torch.save(model.state_dict(), PATH)       \n"
   ]
  },
  {
   "cell_type": "markdown",
   "metadata": {
    "colab_type": "text",
    "id": "Z51oRiVYt1AF"
   },
   "source": [
    "# Loading weights, if already trained "
   ]
  },
  {
   "cell_type": "code",
   "execution_count": null,
   "metadata": {
    "colab": {},
    "colab_type": "code",
    "id": "q3RppWsu35TH"
   },
   "outputs": [],
   "source": [
    "#PATH = '/content/drive/My Drive/--.pth'\n",
    "#model.load_state_dict(torch.load(PATH))\n"
   ]
  },
  {
   "cell_type": "markdown",
   "metadata": {
    "colab_type": "text",
    "id": "9Tj-RHdbt8JS"
   },
   "source": [
    "# Finding accuracy"
   ]
  },
  {
   "cell_type": "code",
   "execution_count": null,
   "metadata": {
    "colab": {
     "base_uri": "https://localhost:8080/",
     "height": 33
    },
    "colab_type": "code",
    "id": "jR8NJBkqNGaV",
    "outputId": "26279976-6f7a-44eb-823a-83be4fa690cd"
   },
   "outputs": [],
   "source": [
    "model.eval()\n",
    "with torch.no_grad():\n",
    "    correct = 0\n",
    "    total = 0\n",
    "    for images, labels in validation_loader:\n",
    "        images=images.to (device)\n",
    "        labels=labels.to (device)\n",
    "        outputs = model(images).to(device)\n",
    "        _, predicted = torch.max(outputs.data, 1)\n",
    "        total += labels.size(0)\n",
    "        correct += (predicted == labels).sum().item()\n",
    "\n",
    "    print('Test Accuracy of the model on the  test images: {} %'.format((correct / total) * 100))\n",
    "    "
   ]
  },
  {
   "cell_type": "markdown",
   "metadata": {
    "colab_type": "text",
    "id": "5CBhjH1duDNA"
   },
   "source": [
    "# Ploting Confusion matrix"
   ]
  },
  {
   "cell_type": "code",
   "execution_count": null,
   "metadata": {
    "colab": {
     "base_uri": "https://localhost:8080/",
     "height": 397
    },
    "colab_type": "code",
    "id": "YNVUdqRRNNBb",
    "outputId": "fa6b7fef-87ed-4ceb-8981-1d0a97fe58f3"
   },
   "outputs": [],
   "source": [
    "from torch.autograd import Variable\n",
    "import matplotlib.pyplot as plt\n",
    "import seaborn as sns\n",
    "from sklearn.metrics import confusion_matrix\n",
    "\n",
    "\n",
    "nb_classes = 3\n",
    "\n",
    "# Initialize the prediction and label lists(tensors)\n",
    "predlist=torch.zeros(0,dtype=torch.long, device='cpu')\n",
    "lbllist=torch.zeros(0,dtype=torch.long, device='cpu')\n",
    "\n",
    "with torch.no_grad():\n",
    "    for i, (inputs, classes) in enumerate(validation_loader):\n",
    "        inputs = inputs.to(device)\n",
    "        classes = classes.to(device)\n",
    "        outputs = model(inputs)\n",
    "        _, preds = torch.max(outputs, 1)\n",
    "\n",
    "        # Append batch prediction results\n",
    "        predlist=torch.cat([predlist,preds.view(-1).cpu()])\n",
    "        lbllist=torch.cat([lbllist,classes.view(-1).cpu()])\n",
    "\n",
    "# Confusion matrix\n",
    "conf_mat=confusion_matrix(lbllist.numpy(), predlist.numpy())\n",
    "print(conf_mat)\n",
    "sns.heatmap(conf_mat, annot=True,fmt=\"d\",cmap='YlGnBu')\n",
    "\n",
    "ax= plt.subplot()\n",
    "# Per-class accuracy\n",
    "#class_accuracy=100*conf_mat.diagonal()/conf_mat.sum(1)\n",
    "#print(class_accuracy)\n",
    "model.eval()\n",
    "with torch.no_grad():\n",
    "    correct = 0\n",
    "    total = 0\n",
    "    for images, labels in validation_loader:\n",
    "        images=images.to (device)\n",
    "        labels=labels.to (device)\n",
    "        outputs = model(images).to(device)\n",
    "        _, predicted = torch.max(outputs.data, 1)\n",
    "        total += labels.size(0)\n",
    "        correct += (predicted == labels).sum().item()\n",
    "\n",
    "    print('Test Accuracy of the model on the  test images: {} %'.format((correct / total) * 100))\n",
    "    #sns.heatmap(cm, cmap=\"YlGnBu\",annot=True, ax = ax,cbar=False); #annot=True to annotate cells\n",
    "\n",
    "\n",
    "ax.set_xlabel('Predicted labels');ax.set_ylabel('True labels'); \n",
    "ax.set_title('Confusion Matrix'); "
   ]
  }
 ],
 "metadata": {
  "accelerator": "GPU",
  "colab": {
   "collapsed_sections": [],
   "name": "googlenet2.ipynb",
   "provenance": []
  },
  "kernelspec": {
   "display_name": "Python 3 (ipykernel)",
   "language": "python",
   "name": "python3"
  },
  "language_info": {
   "codemirror_mode": {
    "name": "ipython",
    "version": 3
   },
   "file_extension": ".py",
   "mimetype": "text/x-python",
   "name": "python",
   "nbconvert_exporter": "python",
   "pygments_lexer": "ipython3",
   "version": "3.9.7"
  },
  "toc": {
   "base_numbering": 1,
   "nav_menu": {},
   "number_sections": true,
   "sideBar": true,
   "skip_h1_title": false,
   "title_cell": "Table of Contents",
   "title_sidebar": "Contents",
   "toc_cell": false,
   "toc_position": {},
   "toc_section_display": true,
   "toc_window_display": false
  }
 },
 "nbformat": 4,
 "nbformat_minor": 1
}
