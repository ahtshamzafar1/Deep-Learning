{
 "cells": [
  {
   "cell_type": "code",
   "execution_count": null,
   "metadata": {
    "colab": {
     "base_uri": "https://localhost:8080/",
     "height": 34
    },
    "colab_type": "code",
    "id": "VraTHeiVyEm-",
    "outputId": "7e80c67e-2fd7-4114-8547-342c5ecef959"
   },
   "outputs": [],
   "source": [
    "import torch\n",
    "import torchvision\n",
    "from torch.utils.data import Dataset\n",
    "import torch.nn as nn\n",
    "import torchvision.transforms as transforms\n",
    "import torchvision.datasets as dsets\n",
    "import torch.nn.functional as F\n",
    "import matplotlib.pylab as plt\n",
    "import numpy as np\n",
    "from torchvision import models\n",
    "torch.manual_seed(2)\n",
    "device = torch.device('cuda' if torch.cuda.is_available() else 'cpu')\n",
    "train_on_gpu = torch.cuda.is_available()\n",
    "if not train_on_gpu:\n",
    "    print('CUDA is not available')\n",
    "else:\n",
    "    print('CUDA is available!')"
   ]
  },
  {
   "cell_type": "code",
   "execution_count": null,
   "metadata": {
    "colab": {
     "base_uri": "https://localhost:8080/",
     "height": 34
    },
    "colab_type": "code",
    "id": "hN_7lRLgyGgO",
    "outputId": "68efb1ed-45de-4323-949e-a8bafe051df8"
   },
   "outputs": [],
   "source": [
    "from google.colab import drive, files\n",
    "drive.mount('/content/drive/')\n",
    "trainpath = \"/content/drive/My Drive/dataset/\"\n",
    "validationpath = \"/content/drive/My Drive/datasetT/\""
   ]
  },
  {
   "cell_type": "code",
   "execution_count": null,
   "metadata": {
    "colab": {
     "base_uri": "https://localhost:8080/",
     "height": 85
    },
    "colab_type": "code",
    "id": "pLdnalelyK1C",
    "outputId": "a30d1067-21c0-4bbd-e2bf-6c660275ba4d"
   },
   "outputs": [],
   "source": [
    "#Test Transform and data loader\n",
    "transform1 = transforms.Compose([transforms.Resize((224,224)),transforms.CenterCrop(size=224),transforms.ToTensor(),transforms.Normalize([0.485, 0.456, 0.406],[0.229, 0.224, 0.225])])\n",
    "train_dataset = dsets.ImageFolder(root=trainpath, transform=transform1)\n",
    "train_loader = torch.utils.data.DataLoader(dataset=train_dataset,batch_size=32, shuffle=True)\n",
    "\n",
    "#validation transform and dataloader\n",
    "validation_transform = transforms.Compose([transforms.Resize((224,224)),transforms.CenterCrop(size=224),transforms.ToTensor(),transforms.Normalize([0.485, 0.456, 0.406],[0.229, 0.224, 0.225])])\n",
    "test_dataset = dsets.ImageFolder(root=validationpath, transform=validation_transform)\n",
    "validation_loader = torch.utils.data.DataLoader(dataset=test_dataset,batch_size=32, shuffle=False)\n",
    "\n",
    "num_epochs = 30\n",
    "num_classes = 3\n",
    "batch_size = 32\n",
    "learning_rate = 0.0001\n",
    "print('there are {}  images in training set.'.format(len(train_dataset)))\n",
    "print('there are {}  images in test set.'.format(len(test_dataset)))\n",
    "print('there are {}  images in training set.'.format(len(train_loader)))\n",
    "print('there are {}  images in training loader.'.format(len(validation_loader)))"
   ]
  },
  {
   "cell_type": "code",
   "execution_count": null,
   "metadata": {
    "colab": {
     "base_uri": "https://localhost:8080/",
     "height": 493
    },
    "colab_type": "code",
    "id": "McJF5I4L1COb",
    "outputId": "aee66787-f680-4b31-8764-99c4eef1a909"
   },
   "outputs": [],
   "source": [
    "#Now using the AlexNet\n",
    "AlexNet_model = torch.hub.load('pytorch/vision:v0.6.0', 'alexnet', pretrained=True)\n",
    "\n",
    "#Model description\n",
    "AlexNet_model.eval()"
   ]
  },
  {
   "cell_type": "code",
   "execution_count": null,
   "metadata": {
    "colab": {},
    "colab_type": "code",
    "id": "m0cEGwp91MGc"
   },
   "outputs": [],
   "source": [
    "#Updating the second classifier\n",
    "AlexNet_model.classifier[4] = nn.Linear(4096,1024)\n",
    "#Updating the third and the last classifier that is the output layer of the network. Make sure to have 10 output nodes if we are going to get 10 class labels through our model.\n",
    "AlexNet_model.classifier[6] = nn.Linear(1024,3)"
   ]
  },
  {
   "cell_type": "code",
   "execution_count": null,
   "metadata": {
    "colab": {
     "base_uri": "https://localhost:8080/",
     "height": 476
    },
    "colab_type": "code",
    "id": "VhSH_uNz1UH-",
    "outputId": "807fe268-ba4d-4c8e-f495-1b276551a212"
   },
   "outputs": [],
   "source": [
    "AlexNet_model.eval()"
   ]
  },
  {
   "cell_type": "code",
   "execution_count": null,
   "metadata": {
    "colab": {
     "base_uri": "https://localhost:8080/",
     "height": 595
    },
    "colab_type": "code",
    "id": "zss_mogLyPzc",
    "outputId": "6810bfc7-b060-4812-f772-73f21c6cd296"
   },
   "outputs": [],
   "source": [
    "from torchsummary import summary\n",
    "\n",
    "summary(AlexNet_model.cuda(), (3, 224, 224))"
   ]
  },
  {
   "cell_type": "code",
   "execution_count": null,
   "metadata": {
    "colab": {},
    "colab_type": "code",
    "id": "2TeKZMdZyS_l"
   },
   "outputs": [],
   "source": [
    "model = AlexNet_model.to (device)\n",
    "# Loss and optimizer\n",
    "criterion = nn.CrossEntropyLoss().to (device)\n",
    "#optimizer = torch.optim.Adam(model.parameters(), lr=learning_rate)\n",
    "optimizer = torch.optim.SGD(model.parameters(), lr=0.0001, momentum=0.9)"
   ]
  },
  {
   "cell_type": "code",
   "execution_count": null,
   "metadata": {
    "colab": {
     "base_uri": "https://localhost:8080/",
     "height": 1000
    },
    "colab_type": "code",
    "id": "L54RFvQKyVsG",
    "outputId": "89789523-c00b-4b09-dc5e-c9a196af0375"
   },
   "outputs": [],
   "source": [
    "# Train the model\n",
    "print(len(train_loader))\n",
    "total_step = len(train_loader)\n",
    "loss_list = []\n",
    "acc_list = []\n",
    "for epoch in range(num_epochs):\n",
    "    for i, (images, labels) in enumerate(train_loader):\n",
    "        # Run the forward pass\n",
    "        images=images.to (device)\n",
    "        labels=labels.to (device)\n",
    "        outputs = model(images)\n",
    "        loss = criterion(outputs, labels)\n",
    "        loss_list.append(loss.item())\n",
    "\n",
    "        # Backprop and perform Adam optimisation\n",
    "        optimizer.zero_grad()\n",
    "        loss.backward()\n",
    "        optimizer.step()\n",
    "\n",
    "        # Track the accuracy\n",
    "        total = labels.size(0)\n",
    "        _, predicted = torch.max(outputs.data, 1)\n",
    "        correct = (predicted == labels).sum().item()\n",
    "        acc_list.append(correct / total)\n",
    "        print(\"Training\")\n",
    "    #if (i + 1) % 100 == 0:\n",
    "        print('Epoch [{}/{}], Step [{}/{}], Loss: {:.4f}, Accuracy: {:.4f}%'.format(epoch + 1, num_epochs, i + 1, total_step, loss.item(),(correct / total) * 100))\n",
    "PATH = '/content/drive/My Drive/Alexnet_new_COVID19_ASAD_ASP_LAB.pth'\n",
    "torch.save(model.state_dict(), PATH)          \n",
    "                    "
   ]
  },
  {
   "cell_type": "code",
   "execution_count": null,
   "metadata": {
    "colab": {
     "base_uri": "https://localhost:8080/",
     "height": 34
    },
    "colab_type": "code",
    "id": "q2tcQqS_AyYU",
    "outputId": "74485685-5db2-4d53-9496-07f8bff92d49"
   },
   "outputs": [],
   "source": [
    "model.eval()\n",
    "with torch.no_grad():\n",
    "    correct = 0\n",
    "    total = 0\n",
    "    for images, labels in validation_loader:\n",
    "        images=images.to (device)\n",
    "        labels=labels.to (device)\n",
    "        outputs = model(images).to(device)\n",
    "        _, predicted = torch.max(outputs.data, 1)\n",
    "        total += labels.size(0)\n",
    "        correct += (predicted == labels).sum().item()\n",
    "\n",
    "    print('Test Accuracy of the model on the  test images: {} %'.format((correct / total) * 100))"
   ]
  }
 ],
 "metadata": {
  "accelerator": "GPU",
  "colab": {
   "name": "ALEXNET.ipynb",
   "provenance": []
  },
  "kernelspec": {
   "display_name": "Python 3 (ipykernel)",
   "language": "python",
   "name": "python3"
  },
  "language_info": {
   "codemirror_mode": {
    "name": "ipython",
    "version": 3
   },
   "file_extension": ".py",
   "mimetype": "text/x-python",
   "name": "python",
   "nbconvert_exporter": "python",
   "pygments_lexer": "ipython3",
   "version": "3.9.7"
  },
  "toc": {
   "base_numbering": 1,
   "nav_menu": {},
   "number_sections": true,
   "sideBar": true,
   "skip_h1_title": false,
   "title_cell": "Table of Contents",
   "title_sidebar": "Contents",
   "toc_cell": false,
   "toc_position": {},
   "toc_section_display": true,
   "toc_window_display": false
  }
 },
 "nbformat": 4,
 "nbformat_minor": 1
}
